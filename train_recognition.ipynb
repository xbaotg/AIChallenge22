{
  "cells": [
    {
      "cell_type": "markdown",
      "source": [
        "## Mount and Clone PaddleOCR "
      ],
      "metadata": {
        "id": "LhivOn4VVpsa"
      }
    },
    {
      "cell_type": "code",
      "execution_count": null,
      "metadata": {
        "id": "h7_kS0xlFR3i"
      },
      "outputs": [],
      "source": [
        "from google.colab import drive\n",
        "drive.mount('/content/drive')"
      ]
    },
    {
      "cell_type": "code",
      "execution_count": null,
      "metadata": {
        "id": "RXvcXzd-E3F9"
      },
      "outputs": [],
      "source": [
        "%cd /content\n",
        "!git clone https://github.com/PaddlePaddle/PaddleOCR"
      ]
    },
    {
      "cell_type": "markdown",
      "source": [
        "## Download Train + Val Data"
      ],
      "metadata": {
        "id": "AfdDb151VuHe"
      }
    },
    {
      "cell_type": "code",
      "source": [
        "%cd /content/\n",
        "!pip install -U --no-cache-dir gdown --pre\n",
        "\n",
        "!rm -r train/* val/*\n",
        "!gdown 1zbmLSW3t7hFq4nd1_GYHqDNHU5ggLKBB\n",
        "!unzip train_rec_with_synth.zip\n",
        "!rm train_rec_with_synth.zip"
      ],
      "metadata": {
        "id": "pkgGqDx4XsLU"
      },
      "execution_count": null,
      "outputs": []
    },
    {
      "cell_type": "markdown",
      "source": [
        "## Download Pretrained models"
      ],
      "metadata": {
        "id": "FoPISnI2V1Kt"
      }
    },
    {
      "cell_type": "code",
      "source": [
        "%cd /content/\n",
        "!wget https://paddleocr.bj.bcebos.com/dygraph_v2.0/en/rec_r50_vd_srn_train.tar -P ./pretrain_models\n",
        "!tar -xf ./pretrain_models/rec_r50_vd_srn_train.tar -C ./pretrain_models\n",
        "!rm -r ./pretrain_models/rec_r50_vd_srn_train.tar"
      ],
      "metadata": {
        "id": "XVLehplEnXZb"
      },
      "execution_count": null,
      "outputs": []
    },
    {
      "cell_type": "markdown",
      "source": [
        "## Download configs + requiremnets"
      ],
      "metadata": {
        "id": "EV91aOD6WB07"
      }
    },
    {
      "cell_type": "code",
      "execution_count": null,
      "metadata": {
        "id": "5HY0D610HjsT"
      },
      "outputs": [],
      "source": [
        "%cd /content/PaddleOCR\n",
        "!wget https://raw.githubusercontent.com/xbaotg/AIChallenge22/main/configs/dict.txt -O dict.txt"
      ]
    },
    {
      "cell_type": "code",
      "execution_count": null,
      "metadata": {
        "id": "FuDQBrewHrRJ"
      },
      "outputs": [],
      "source": [
        "%cd /content/PaddleOCR\n",
        "!pip install -r requirements.txt\n",
        "!pip install paddlepaddle-gpu==0.0.0.post112 -f https://www.paddlepaddle.org.cn/whl/linux/gpu/develop.html"
      ]
    },
    {
      "cell_type": "markdown",
      "source": [
        "## Train"
      ],
      "metadata": {
        "id": "v7Jy0QHiXE2A"
      }
    },
    {
      "cell_type": "code",
      "source": [
        "# Global.checkpoints=.... \\\n",
        "\n",
        "%cd /content/PaddleOCR\n",
        "!python3 tools/train.py -c ./configs/rec/rec_r50_fpn_srn.yml  \\\n",
        "                        -o  Global.pretrained_model=/content/pretrain_models/rec_r50_vd_srn_train/best_accuracy \\\n",
        "                            Global.save_model_dir=/content/drive/MyDrive/PaddleOCR/rec/ \\\n",
        "                            Global.eval_batch_step=1500 \\\n",
        "                            Global.character_dict_path=dict.txt \\\n",
        "                            Global.epoch_num=300  \\\n",
        "                            Global.save_epoch_step=3 \\\n",
        "                            Train.dataset.name='SimpleDataSet'  \\\n",
        "                            Train.dataset.data_dir=/content/train  \\\n",
        "                            Train.dataset.label_file_list=['/content/train/labels.txt'] \\\n",
        "                            Eval.dataset.name='SimpleDataSet'  \\\n",
        "                            Eval.dataset.data_dir=/content/val  \\\n",
        "                            Eval.dataset.label_file_list=['/content/val/labels.txt'] "
      ],
      "metadata": {
        "id": "_3_7EH4pmJt-"
      },
      "execution_count": null,
      "outputs": []
    }
  ],
  "metadata": {
    "accelerator": "GPU",
    "colab": {
      "provenance": []
    },
    "gpuClass": "standard",
    "kernelspec": {
      "display_name": "Python 3",
      "name": "python3"
    },
    "language_info": {
      "name": "python"
    }
  },
  "nbformat": 4,
  "nbformat_minor": 0
}
