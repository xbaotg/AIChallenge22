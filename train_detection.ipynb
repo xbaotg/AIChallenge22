{
  "cells": [
    {
      "cell_type": "markdown",
      "source": [
        "## Mount and Clone YOLOv7"
      ],
      "metadata": {
        "id": "Zyi8c-HyDVmS"
      }
    },
    {
      "cell_type": "code",
      "execution_count": null,
      "metadata": {
        "id": "1MGO4wWA8WiR"
      },
      "outputs": [],
      "source": [
        "from google.colab import drive\n",
        "drive.mount('/content/drive')"
      ]
    },
    {
      "cell_type": "code",
      "execution_count": null,
      "metadata": {
        "id": "sIQIN8LJAUSu"
      },
      "outputs": [],
      "source": [
        "%cd /content\n",
        "!git clone https://github.com/WongKinYiu/yolov7"
      ]
    },
    {
      "cell_type": "markdown",
      "source": [
        "## Download data (train + val)"
      ],
      "metadata": {
        "id": "glE577WFDRFd"
      }
    },
    {
      "cell_type": "code",
      "execution_count": null,
      "metadata": {
        "id": "BAqt6NLCAgCX",
        "collapsed": true
      },
      "outputs": [],
      "source": [
        "%cd /content/\n",
        "\n",
        "!pip install -U --no-cache-dir gdown --pre\n",
        "!rm -r train/* val/*\n",
        "!gdown 1sohRPX_oUXKt6RjwYVR0EJkBJtATmX2o\n",
        "!unzip det_generated.zip\n",
        "!rm det_generated.zip"
      ]
    },
    {
      "cell_type": "markdown",
      "source": [
        "## Install requirements"
      ],
      "metadata": {
        "id": "fLdb72wxES0-"
      }
    },
    {
      "cell_type": "code",
      "execution_count": null,
      "metadata": {
        "id": "RXC58eddAqs3"
      },
      "outputs": [],
      "source": [
        "%cd /content/yolov7\n",
        "!pip install -r requirements.txt"
      ]
    },
    {
      "cell_type": "markdown",
      "source": [
        "## Train"
      ],
      "metadata": {
        "id": "I33IptnBHGVJ"
      }
    },
    {
      "cell_type": "code",
      "execution_count": null,
      "metadata": {
        "id": "NrRKUGKbDcVG"
      },
      "outputs": [],
      "source": [
        "# update config for YOLOv7\n",
        "!wget https://raw.githubusercontent.com/xbaotg/AIChallenge22/main/configs/yolov7-w6.yaml -O /content/yolov7/cfg/training/yolov7-w6.yaml\n",
        "!wget https://raw.githubusercontent.com/xbaotg/AIChallenge22/main/configs/my_config.yaml -O /content/yolov7/data/my_config.yaml\n",
        "!wget https://raw.githubusercontent.com/xbaotg/AIChallenge22/main/configs/loss.py -O /content/yolov7/utils/loss.py"
      ]
    },
    {
      "cell_type": "code",
      "execution_count": null,
      "metadata": {
        "id": "Lze8jY7uCz23"
      },
      "outputs": [],
      "source": [
        "%cd /content/yolov7\n",
        "\n",
        "# resume\n",
        "# !python train_aux.py --project '/content/drive/MyDrive/YOLOv7/' --save_period 3 --workers 24 --device 0 --batch-size 12 --data data/my_config.yaml --img 960 960 --cfg cfg/training/yolov7-w6.yaml --weights 'last.pt' --name yolov7-w6 --hyp data/hyp.scratch.p6.yaml\n",
        "\n",
        "# train\n",
        "!python train_aux.py --project '/content/drive/MyDrive/YOLOv7/' --save_period 3 --workers 24 --device 0 --batch-size 12 --data data/my_config.yaml --img 960 960 --cfg cfg/training/yolov7-w6.yaml --weights '' --name yolov7-w6 --hyp data/hyp.scratch.p6.yaml\n"
      ]
    }
  ],
  "metadata": {
    "accelerator": "GPU",
    "colab": {
      "machine_shape": "hm",
      "provenance": []
    },
    "gpuClass": "standard",
    "kernelspec": {
      "display_name": "Python 3",
      "name": "python3"
    },
    "language_info": {
      "name": "python"
    }
  },
  "nbformat": 4,
  "nbformat_minor": 0
}